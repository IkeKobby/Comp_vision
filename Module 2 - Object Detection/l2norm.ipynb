{
 "cells": [
  {
   "cell_type": "code",
   "execution_count": null,
   "id": "handmade-person",
   "metadata": {},
   "outputs": [],
   "source": [
    "\"\"\"\n",
    "Copyright (c) 2017 Max deGroot, Ellis Brown\n",
    "Released under the MIT license\n",
    "https://github.com/amdegroot/ssd.pytorch\n",
    "Updated by: me\n",
    "\"\"\"\n",
    "import torch\n",
    "import torch.nn as nn\n",
    "# from torch.autograd import Function\n",
    "# from torch.autograd import Variable\n",
    "import torch.nn.init as init\n",
    "\n",
    "\n",
    "class L2Norm(nn.Module):\n",
    "    def __init__(self, n_channels, scale):\n",
    "        super(L2Norm, self).__init__()\n",
    "        self.n_channels = n_channels\n",
    "        self.gamma = scale or None\n",
    "        self.eps = 1e-10\n",
    "        self.weight = nn.Parameter(torch.Tensor(self.n_channels))\n",
    "        self.reset_parameters()\n",
    "\n",
    "    def reset_parameters(self):\n",
    "        # PyTorch 1.5.1\n",
    "        # (fixes a warning)\n",
    "        # init.constant(self.weight, self.gamma)\n",
    "        init.constant_(self.weight, self.gamma)\n",
    "\n",
    "    def forward(self, x):\n",
    "        norm = x.pow(2).sum(dim=1, keepdim=True).sqrt()+self.eps\n",
    "        # PyTorch 1.5.1\n",
    "        # (drastically increase the detection accuracy)\n",
    "        # x /= norm\n",
    "        x = torch.div(x, norm)\n",
    "        out = self.weight.unsqueeze(0).unsqueeze(2).unsqueeze(3).expand_as(x) * x\n",
    "        return out"
   ]
  }
 ],
 "metadata": {
  "kernelspec": {
   "display_name": "Python 3",
   "language": "python",
   "name": "python3"
  },
  "language_info": {
   "codemirror_mode": {
    "name": "ipython",
    "version": 3
   },
   "file_extension": ".py",
   "mimetype": "text/x-python",
   "name": "python",
   "nbconvert_exporter": "python",
   "pygments_lexer": "ipython3",
   "version": "3.8.5"
  }
 },
 "nbformat": 4,
 "nbformat_minor": 5
}
